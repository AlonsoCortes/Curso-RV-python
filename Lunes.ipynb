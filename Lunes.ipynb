{
  "nbformat": 4,
  "nbformat_minor": 0,
  "metadata": {
    "colab": {
      "name": "Lunes_resuelto.ipynb",
      "provenance": [],
      "toc_visible": true,
      "authorship_tag": "ABX9TyO5TFT+LT8eO77OP9TModDz",
      "include_colab_link": true
    },
    "kernelspec": {
      "name": "python3",
      "display_name": "Python 3"
    }
  },
  "cells": [
    {
      "cell_type": "markdown",
      "metadata": {
        "id": "view-in-github",
        "colab_type": "text"
      },
      "source": [
        "<a href=\"https://colab.research.google.com/github/UrielMendoza/Curso-RV-python/blob/master/Lunes.ipynb\" target=\"_parent\"><img src=\"https://colab.research.google.com/assets/colab-badge.svg\" alt=\"Open In Colab\"/></a>"
      ]
    },
    {
      "cell_type": "markdown",
      "metadata": {
        "colab_type": "text",
        "id": "Eah1UMpERNi-"
      },
      "source": [
        "\n",
        "# **Introducción a procesamiento datos espaciales con Python**"
      ]
    },
    {
      "cell_type": "markdown",
      "metadata": {
        "id": "SqasAh7zNJQ2",
        "colab_type": "text"
      },
      "source": [
        "### Repaso python (Opcional) "
      ]
    },
    {
      "cell_type": "markdown",
      "metadata": {
        "id": "HSpmVDAGRQWT",
        "colab_type": "text"
      },
      "source": [
        "**Variables**\n",
        "\n",
        "*   No pueden empezar con numeros\n",
        "*   No utilizar acentos\n",
        "*   No poner caracteres especiales\n",
        "\n",
        "Signo igual (=) para para asignar un valor a una variable"
      ]
    },
    {
      "cell_type": "code",
      "metadata": {
        "id": "ffFg581tKQ_H",
        "colab_type": "code",
        "colab": {}
      },
      "source": [
        "variable = 1"
      ],
      "execution_count": 0,
      "outputs": []
    },
    {
      "cell_type": "markdown",
      "metadata": {
        "id": "ztk966awV0HI",
        "colab_type": "text"
      },
      "source": [
        "**Tipos de datos**\n",
        "\n"
      ]
    },
    {
      "cell_type": "markdown",
      "metadata": {
        "id": "DzK7RNdhXJ8P",
        "colab_type": "text"
      },
      "source": [
        "Números enteros (int)"
      ]
    },
    {
      "cell_type": "code",
      "metadata": {
        "id": "IV8vIBPiXNes",
        "colab_type": "code",
        "colab": {
          "base_uri": "https://localhost:8080/",
          "height": 34
        },
        "outputId": "e157304f-05a7-4a23-af2c-768aab68594c"
      },
      "source": [
        "numInt = 1\n",
        "numInt = 99999999999999999\n",
        "type(numInt)"
      ],
      "execution_count": 10,
      "outputs": [
        {
          "output_type": "execute_result",
          "data": {
            "text/plain": [
              "int"
            ]
          },
          "metadata": {
            "tags": []
          },
          "execution_count": 10
        }
      ]
    },
    {
      "cell_type": "markdown",
      "metadata": {
        "id": "uOyj6NOmXTHd",
        "colab_type": "text"
      },
      "source": [
        "Números de punto flotante (float)"
      ]
    },
    {
      "cell_type": "code",
      "metadata": {
        "id": "FfAUyqy0XWJ9",
        "colab_type": "code",
        "colab": {
          "base_uri": "https://localhost:8080/",
          "height": 34
        },
        "outputId": "807e64b4-6951-4fb0-c505-3b12de5af707"
      },
      "source": [
        "numFlt = 1.0\n",
        "numFlt = 99.999999999999999\n",
        "type(numFlt)"
      ],
      "execution_count": 11,
      "outputs": [
        {
          "output_type": "execute_result",
          "data": {
            "text/plain": [
              "float"
            ]
          },
          "metadata": {
            "tags": []
          },
          "execution_count": 11
        }
      ]
    },
    {
      "cell_type": "markdown",
      "metadata": {
        "id": "NOdH7VMbX0zb",
        "colab_type": "text"
      },
      "source": [
        "Números complejos (complex)"
      ]
    },
    {
      "cell_type": "code",
      "metadata": {
        "id": "UQrAR_kGPXkl",
        "colab_type": "code",
        "colab": {
          "base_uri": "https://localhost:8080/",
          "height": 34
        },
        "outputId": "ad88c169-c81f-4eea-ebf0-cba39989bc2d"
      },
      "source": [
        "numCpx = 1 + 2j\n",
        "numCpx = 1.34242 + 2.343j\n",
        "type(numCpx)"
      ],
      "execution_count": 12,
      "outputs": [
        {
          "output_type": "execute_result",
          "data": {
            "text/plain": [
              "complex"
            ]
          },
          "metadata": {
            "tags": []
          },
          "execution_count": 12
        }
      ]
    },
    {
      "cell_type": "markdown",
      "metadata": {
        "id": "ZO0XhTe6YleB",
        "colab_type": "text"
      },
      "source": [
        "Valores booleanos (bool)"
      ]
    },
    {
      "cell_type": "code",
      "metadata": {
        "id": "rEjqNXvTPX4Z",
        "colab_type": "code",
        "colab": {
          "base_uri": "https://localhost:8080/",
          "height": 34
        },
        "outputId": "80fe6b89-02b3-40c9-85b4-26eb58231f8a"
      },
      "source": [
        "valBool = True\n",
        "valBool = False\n",
        "type(valBool)"
      ],
      "execution_count": 13,
      "outputs": [
        {
          "output_type": "execute_result",
          "data": {
            "text/plain": [
              "bool"
            ]
          },
          "metadata": {
            "tags": []
          },
          "execution_count": 13
        }
      ]
    },
    {
      "cell_type": "markdown",
      "metadata": {
        "id": "rHUIbI_MarF8",
        "colab_type": "text"
      },
      "source": [
        "Cadenas de caracteres (str)"
      ]
    },
    {
      "cell_type": "code",
      "metadata": {
        "id": "QECbmkJsa0e2",
        "colab_type": "code",
        "colab": {
          "base_uri": "https://localhost:8080/",
          "height": 34
        },
        "outputId": "2b80be6e-e06b-4d36-bdd3-0d40d3bdff82"
      },
      "source": [
        "cdnCar = 'uno'\n",
        "cdnCar = 'habia una vez un numero uno'\n",
        "type(cdnCar)"
      ],
      "execution_count": 15,
      "outputs": [
        {
          "output_type": "execute_result",
          "data": {
            "text/plain": [
              "str"
            ]
          },
          "metadata": {
            "tags": []
          },
          "execution_count": 15
        }
      ]
    },
    {
      "cell_type": "markdown",
      "metadata": {
        "id": "9DY_IEHib0Ox",
        "colab_type": "text"
      },
      "source": [
        "**Tipo de datos interables**"
      ]
    },
    {
      "cell_type": "markdown",
      "metadata": {
        "id": "8fYv8Ldmb9iM",
        "colab_type": "text"
      },
      "source": [
        "Listas"
      ]
    },
    {
      "cell_type": "code",
      "metadata": {
        "id": "ffgrvo3zcBSk",
        "colab_type": "code",
        "colab": {
          "base_uri": "https://localhost:8080/",
          "height": 34
        },
        "outputId": "2a98cb7e-6e4a-4d3b-ba1e-4b325f925712"
      },
      "source": [
        "lista = [1,2,3,4,5]\n",
        "lista = [1,2.3,'uno',True]\n",
        "lista = [1,2.34,[10,11,12,[1,'dato',3]],True]\n",
        "lista[0]\n",
        "lista[2][3][1]\n",
        "type(lista)"
      ],
      "execution_count": 22,
      "outputs": [
        {
          "output_type": "execute_result",
          "data": {
            "text/plain": [
              "list"
            ]
          },
          "metadata": {
            "tags": []
          },
          "execution_count": 22
        }
      ]
    },
    {
      "cell_type": "markdown",
      "metadata": {
        "id": "fryxs0Mpcqhj",
        "colab_type": "text"
      },
      "source": [
        "Tuplas"
      ]
    },
    {
      "cell_type": "code",
      "metadata": {
        "id": "ESXpAT35csPp",
        "colab_type": "code",
        "colab": {
          "base_uri": "https://localhost:8080/",
          "height": 34
        },
        "outputId": "f8e8dfef-1eb2-49a4-a82d-5a6faffb2526"
      },
      "source": [
        "tupla = (1,2,3,4)\n",
        "tupla = (1,4,[1,2],'uno',True)\n",
        "tupla[2][0]\n",
        "type(tupla)"
      ],
      "execution_count": 26,
      "outputs": [
        {
          "output_type": "execute_result",
          "data": {
            "text/plain": [
              "tuple"
            ]
          },
          "metadata": {
            "tags": []
          },
          "execution_count": 26
        }
      ]
    },
    {
      "cell_type": "markdown",
      "metadata": {
        "id": "QtDny2MNeee-",
        "colab_type": "text"
      },
      "source": [
        "Diccionarios"
      ]
    },
    {
      "cell_type": "code",
      "metadata": {
        "id": "0xBfhVG1ehAd",
        "colab_type": "code",
        "colab": {
          "base_uri": "https://localhost:8080/",
          "height": 34
        },
        "outputId": "1fb1b657-b3cc-43f8-f649-01acb45aedab"
      },
      "source": [
        "dic = {'key1':1,'key2':2,'key3':3}\n",
        "dic = {'key1':1,'key2':[1,2,3,4],'key3':'Cadena de texto'}\n",
        "dic['key1']\n",
        "dic['key2'][2]\n",
        "dic = {'0':1,'1':2,'2':3}\n",
        "dic = {'ID':(1,2,3),'Capitales':('Tuxtla Gutierrez','Oaxaca','Merida'),'entidad':('Chiapas','Oaxaca','Yucatan'),'pobl':(1023233,2232323,1223233),'geometry':([13.4,-93.5],[15.4,-103.4],[15.6,-89])}\n",
        "dic['ID']\n",
        "dic['geometry']\n",
        "type(dic)"
      ],
      "execution_count": 40,
      "outputs": [
        {
          "output_type": "execute_result",
          "data": {
            "text/plain": [
              "dict"
            ]
          },
          "metadata": {
            "tags": []
          },
          "execution_count": 40
        }
      ]
    },
    {
      "cell_type": "markdown",
      "metadata": {
        "id": "oPhf-xK6pWaY",
        "colab_type": "text"
      },
      "source": [
        "**Estructuras de control de flujo**"
      ]
    },
    {
      "cell_type": "markdown",
      "metadata": {
        "id": "APVSbCZRpgvo",
        "colab_type": "text"
      },
      "source": [
        "Condicionales\n"
      ]
    },
    {
      "cell_type": "code",
      "metadata": {
        "id": "OFuDHdK0qvY-",
        "colab_type": "code",
        "colab": {
          "base_uri": "https://localhost:8080/",
          "height": 34
        },
        "outputId": "a330e8a9-ed3b-4e4a-c3e1-248b71f5992c"
      },
      "source": [
        "if True:\n",
        "  print(True)\n",
        "else:\n",
        "  print(False)"
      ],
      "execution_count": 42,
      "outputs": [
        {
          "output_type": "stream",
          "text": [
            "True\n"
          ],
          "name": "stdout"
        }
      ]
    },
    {
      "cell_type": "markdown",
      "metadata": {
        "id": "LgLRb5h6rAmt",
        "colab_type": "text"
      },
      "source": [
        "Operadores Relacionales (==,!=,<,<=,>,>=)\n"
      ]
    },
    {
      "cell_type": "code",
      "metadata": {
        "id": "RXIGfzwIrGAM",
        "colab_type": "code",
        "colab": {
          "base_uri": "https://localhost:8080/",
          "height": 34
        },
        "outputId": "0f113d2e-6cb2-47d9-9b3a-fb4cab0d5537"
      },
      "source": [
        "num = 12\n",
        "if num < 4:\n",
        "  print('mayor a 4')\n",
        "if num == 12:\n",
        "  print('igual a 12')\n",
        "else:\n",
        "  print('mayor a 4')"
      ],
      "execution_count": 47,
      "outputs": [
        {
          "output_type": "stream",
          "text": [
            "igual a 12\n"
          ],
          "name": "stdout"
        }
      ]
    },
    {
      "cell_type": "markdown",
      "metadata": {
        "id": "QyXrAKmkv0L6",
        "colab_type": "text"
      },
      "source": [
        "Operadores Logicos (and,or)"
      ]
    },
    {
      "cell_type": "code",
      "metadata": {
        "id": "dL52myAewBet",
        "colab_type": "code",
        "colab": {
          "base_uri": "https://localhost:8080/",
          "height": 34
        },
        "outputId": "45f585d5-9bf4-458a-8461-d1c1e66bcf41"
      },
      "source": [
        "num = 33\n",
        "if num % 3 == 0 and num > 50:\n",
        "  print ('Num es multiplo de 3 y mayor a 50')\n",
        "elif num % 3 == 1 or num % 11 == 0  :\n",
        "  print ('Num es multiplo de 3')"
      ],
      "execution_count": 68,
      "outputs": [
        {
          "output_type": "stream",
          "text": [
            "Num es multiplo de 3\n"
          ],
          "name": "stdout"
        }
      ]
    },
    {
      "cell_type": "markdown",
      "metadata": {
        "id": "5Nlb86K2ydhQ",
        "colab_type": "text"
      },
      "source": [
        "Interativos (for,while)"
      ]
    },
    {
      "cell_type": "code",
      "metadata": {
        "id": "_PcIVDJRynwF",
        "colab_type": "code",
        "colab": {
          "base_uri": "https://localhost:8080/",
          "height": 425
        },
        "outputId": "4b0bfc02-6e30-4fc0-d660-b3aa6ed9de5c"
      },
      "source": [
        "for i in lista:\n",
        "  print(i)\n",
        "\n",
        "for i in dic:\n",
        "  print(dic[i])\n",
        "  if type(dic[i]) == tuple:\n",
        "    for j in dic[i]:\n",
        "      print(j)\n",
        "\n",
        "#while True:\n",
        " # print (True)"
      ],
      "execution_count": 80,
      "outputs": [
        {
          "output_type": "stream",
          "text": [
            "1\n",
            "2.34\n",
            "[10, 11, 12, [1, 'dato', 3]]\n",
            "True\n",
            "(1, 2, 3)\n",
            "1\n",
            "2\n",
            "3\n",
            "('Tuxtla Gutierrez', 'Oaxaca', 'Merida')\n",
            "Tuxtla Gutierrez\n",
            "Oaxaca\n",
            "Merida\n",
            "('Chiapas', 'Oaxaca', 'Yucatan')\n",
            "Chiapas\n",
            "Oaxaca\n",
            "Yucatan\n",
            "(1023233, 2232323, 1223233)\n",
            "1023233\n",
            "2232323\n",
            "1223233\n",
            "([13.4, -93.5], [15.4, -103.4], [15.6, -89])\n",
            "[13.4, -93.5]\n",
            "[15.4, -103.4]\n",
            "[15.6, -89]\n"
          ],
          "name": "stdout"
        }
      ]
    },
    {
      "cell_type": "markdown",
      "metadata": {
        "id": "M8nkteM1RUxC",
        "colab_type": "text"
      },
      "source": [
        "# **Introducción a Raster (GDAL, Rasterio, Pillow y Numpy)**"
      ]
    },
    {
      "cell_type": "markdown",
      "metadata": {
        "id": "yS8iJjp_4sc_",
        "colab_type": "text"
      },
      "source": [
        ""
      ]
    },
    {
      "cell_type": "code",
      "metadata": {
        "id": "YnbBLIys6Xh4",
        "colab_type": "code",
        "colab": {
          "base_uri": "https://localhost:8080/",
          "height": 122
        },
        "outputId": "5da77bca-1a43-42c7-cab6-94052e01f06d"
      },
      "source": [
        "from google.colab import drive\n",
        "drive.mount('/content/drive')"
      ],
      "execution_count": 82,
      "outputs": [
        {
          "output_type": "stream",
          "text": [
            "Go to this URL in a browser: https://accounts.google.com/o/oauth2/auth?client_id=947318989803-6bn6qk8qdgf4n4g3pfee6491hc0brc4i.apps.googleusercontent.com&redirect_uri=urn%3aietf%3awg%3aoauth%3a2.0%3aoob&response_type=code&scope=email%20https%3a%2f%2fwww.googleapis.com%2fauth%2fdocs.test%20https%3a%2f%2fwww.googleapis.com%2fauth%2fdrive%20https%3a%2f%2fwww.googleapis.com%2fauth%2fdrive.photos.readonly%20https%3a%2f%2fwww.googleapis.com%2fauth%2fpeopleapi.readonly\n",
            "\n",
            "Enter your authorization code:\n",
            "··········\n",
            "Mounted at /content/drive\n"
          ],
          "name": "stdout"
        }
      ]
    },
    {
      "cell_type": "code",
      "metadata": {
        "id": "ZQiLmJFoADQL",
        "colab_type": "code",
        "colab": {}
      },
      "source": [
        "from osgeo import gdal"
      ],
      "execution_count": 0,
      "outputs": []
    },
    {
      "cell_type": "code",
      "metadata": {
        "id": "okhWRW-aUvKe",
        "colab_type": "code",
        "colab": {
          "base_uri": "https://localhost:8080/",
          "height": 272
        },
        "outputId": "a31ef9e4-2f6a-4cf9-db51-8b05d2ba127e"
      },
      "source": [
        "import os\n",
        "os.listdir('drive/My Drive/Colab Notebooks/')"
      ],
      "execution_count": 100,
      "outputs": [
        {
          "output_type": "execute_result",
          "data": {
            "text/plain": [
              "['Copia de numpy.ipynb',\n",
              " 'pandas (1).ipynb',\n",
              " 'numpy.ipynb',\n",
              " 'pandas.ipynb',\n",
              " 'numpy_time.ipynb',\n",
              " 'matplotlib.ipynb',\n",
              " 'kmeans.ipynb',\n",
              " 'perceptron (1).ipynb',\n",
              " '3_Tensorflow.ipynb',\n",
              " '4_Keras.ipynb',\n",
              " 'perceptron.ipynb',\n",
              " '5_Keras-CNN.ipynb',\n",
              " 'afaiMask_ee_S2A.ipynb',\n",
              " 'Lunes_resuelto.ipynb',\n",
              " 'DistritoFederal_r15m.tif']"
            ]
          },
          "metadata": {
            "tags": []
          },
          "execution_count": 100
        }
      ]
    },
    {
      "cell_type": "code",
      "metadata": {
        "id": "Ju4VE5QdTc-a",
        "colab_type": "code",
        "colab": {}
      },
      "source": [
        "ds = gdal.Open('drive/My Drive/Colab Notebooks/DistritoFederal_r15m.tif')"
      ],
      "execution_count": 0,
      "outputs": []
    },
    {
      "cell_type": "code",
      "metadata": {
        "id": "_sxOd-PmTunK",
        "colab_type": "code",
        "colab": {
          "base_uri": "https://localhost:8080/",
          "height": 34
        },
        "outputId": "40f3f2f4-4663-48fc-9d51-ebdf20aac025"
      },
      "source": [
        "type(ds)"
      ],
      "execution_count": 104,
      "outputs": [
        {
          "output_type": "execute_result",
          "data": {
            "text/plain": [
              "osgeo.gdal.Dataset"
            ]
          },
          "metadata": {
            "tags": []
          },
          "execution_count": 104
        }
      ]
    },
    {
      "cell_type": "code",
      "metadata": {
        "id": "UD7YR-Q4TxR5",
        "colab_type": "code",
        "colab": {}
      },
      "source": [
        "data = ds.ReadAsArray()"
      ],
      "execution_count": 0,
      "outputs": []
    },
    {
      "cell_type": "code",
      "metadata": {
        "id": "egRCjl35VhWD",
        "colab_type": "code",
        "colab": {}
      },
      "source": [
        "import numpy as np\n",
        "data\n",
        "data = np.where(data == 32767,np.nan,data)"
      ],
      "execution_count": 0,
      "outputs": []
    },
    {
      "cell_type": "code",
      "metadata": {
        "id": "IogP3sAkViHk",
        "colab_type": "code",
        "colab": {
          "base_uri": "https://localhost:8080/",
          "height": 286
        },
        "outputId": "92e99750-2c31-44a7-93e9-38e4766f27f7"
      },
      "source": [
        "import matplotlib.pyplot as plt\n",
        "plt.imshow(data)\n",
        "data[2000,1500]"
      ],
      "execution_count": 116,
      "outputs": [
        {
          "output_type": "execute_result",
          "data": {
            "text/plain": [
              "2277.0"
            ]
          },
          "metadata": {
            "tags": []
          },
          "execution_count": 116
        },
        {
          "output_type": "display_data",
          "data": {
            "image/png": "[encoded data removed]",
            "text/plain": [
              "<Figure size 432x288 with 1 Axes>"
            ]
          },
          "metadata": {
            "tags": []
          }
        }
      ]
    },
    {
      "cell_type": "code",
      "metadata": {
        "id": "kHUSW7H3Voyz",
        "colab_type": "code",
        "colab": {
          "base_uri": "https://localhost:8080/",
          "height": 269
        },
        "outputId": "a9a05489-509b-4504-b770-cf9eeddcfc8d"
      },
      "source": [
        "plt.contour(data[2000:2500,2000:2500], cmap = \"viridis\",\n",
        "            levels = list(range(0, 5000,1)))\n",
        "\n",
        "plt.gca().set_aspect('equal', adjustable='datalim')\n",
        "plt.gca().invert_yaxis()\n",
        "plt.show()"
      ],
      "execution_count": 140,
      "outputs": [
        {
          "output_type": "display_data",
          "data": {
            "image/png": "[encoded data removed]",
            "text/plain": [
              "<Figure size 432x288 with 1 Axes>"
            ]
          },
          "metadata": {
            "tags": []
          }
        }
      ]
    },
    {
      "cell_type": "code",
      "metadata": {
        "id": "4-V99ueZZfT_",
        "colab_type": "code",
        "colab": {}
      },
      "source": [
        ""
      ],
      "execution_count": 0,
      "outputs": []
    }
  ]
}